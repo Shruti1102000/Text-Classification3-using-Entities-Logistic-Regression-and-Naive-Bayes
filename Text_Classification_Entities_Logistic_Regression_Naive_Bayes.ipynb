{
  "nbformat": 4,
  "nbformat_minor": 0,
  "metadata": {
    "colab": {
      "name": "Text Classification_Entities_Logistic Regression_Naive Bayes.ipynb",
      "provenance": [],
      "collapsed_sections": [],
      "include_colab_link": true
    },
    "kernelspec": {
      "name": "python3",
      "display_name": "Python 3"
    }
  },
  "cells": [
    {
      "cell_type": "markdown",
      "metadata": {
        "id": "view-in-github",
        "colab_type": "text"
      },
      "source": [
        "<a href=\"https://colab.research.google.com/github/Shruti1102000/Text-Classification3-using-Entities-Logistic-Regression-and-Naive-Bayes/blob/main/Text_Classification_Entities_Logistic_Regression_Naive_Bayes.ipynb\" target=\"_parent\"><img src=\"https://colab.research.google.com/assets/colab-badge.svg\" alt=\"Open In Colab\"/></a>"
      ]
    },
    {
      "cell_type": "markdown",
      "metadata": {
        "id": "8fK5KG-MVpv6"
      },
      "source": [
        "# Importing necessory libraries"
      ]
    },
    {
      "cell_type": "code",
      "metadata": {
        "id": "Yh2HqWNyK7As",
        "colab": {
          "base_uri": "https://localhost:8080/",
          "height": 86
        },
        "outputId": "fb933f27-f32e-4efb-b546-e937ed5c59e5"
      },
      "source": [
        "from nltk.corpus import reuters\n",
        "from sklearn.preprocessing import MultiLabelBinarizer\n",
        "import spacy\n",
        "import numpy as np\n",
        "\n",
        "'''\n",
        "  References:\n",
        "  https://spacy.io/usage/vectors-similarity\n",
        "  https://spacy.io/usage/linguistic-features#named-entities\n",
        "  https://scikit-learn.org/stable/modules/generated/sklearn.preprocessing.MultiLabelBinarizer.html\n",
        "  https://scikit-learn.org/stable/modules/generated/sklearn.naive_bayes.GaussianNB.html\n",
        "  https://scikit-learn.org/stable/modules/generated/sklearn.linear_model.LogisticRegression.html\n",
        "'''"
      ],
      "execution_count": null,
      "outputs": [
        {
          "output_type": "execute_result",
          "data": {
            "application/vnd.google.colaboratory.intrinsic+json": {
              "type": "string"
            },
            "text/plain": [
              "'\\n  References:\\n  https://spacy.io/usage/vectors-similarity\\n  https://spacy.io/usage/linguistic-features#named-entities\\n  https://scikit-learn.org/stable/modules/generated/sklearn.preprocessing.MultiLabelBinarizer.html\\n  https://scikit-learn.org/stable/modules/generated/sklearn.naive_bayes.GaussianNB.html\\n  https://scikit-learn.org/stable/modules/generated/sklearn.linear_model.LogisticRegression.html\\n'"
            ]
          },
          "metadata": {
            "tags": []
          },
          "execution_count": 1
        }
      ]
    },
    {
      "cell_type": "code",
      "metadata": {
        "colab": {
          "base_uri": "https://localhost:8080/"
        },
        "id": "6OXmNyPiNGIn",
        "outputId": "6146895e-210c-4e1c-d9b3-228f7a41d8f5"
      },
      "source": [
        "import nltk\n",
        "nltk.download('reuters')\n",
        "!python -m spacy download en_core_web_lg"
      ],
      "execution_count": null,
      "outputs": [
        {
          "output_type": "stream",
          "text": [
            "[nltk_data] Downloading package reuters to /root/nltk_data...\n",
            "Collecting en_core_web_lg==2.2.5\n",
            "\u001b[?25l  Downloading https://github.com/explosion/spacy-models/releases/download/en_core_web_lg-2.2.5/en_core_web_lg-2.2.5.tar.gz (827.9MB)\n",
            "\u001b[K     |████████████████████████████████| 827.9MB 1.1MB/s \n",
            "\u001b[?25hRequirement already satisfied: spacy>=2.2.2 in /usr/local/lib/python3.6/dist-packages (from en_core_web_lg==2.2.5) (2.2.4)\n",
            "Requirement already satisfied: requests<3.0.0,>=2.13.0 in /usr/local/lib/python3.6/dist-packages (from spacy>=2.2.2->en_core_web_lg==2.2.5) (2.23.0)\n",
            "Requirement already satisfied: blis<0.5.0,>=0.4.0 in /usr/local/lib/python3.6/dist-packages (from spacy>=2.2.2->en_core_web_lg==2.2.5) (0.4.1)\n",
            "Requirement already satisfied: tqdm<5.0.0,>=4.38.0 in /usr/local/lib/python3.6/dist-packages (from spacy>=2.2.2->en_core_web_lg==2.2.5) (4.41.1)\n",
            "Requirement already satisfied: plac<1.2.0,>=0.9.6 in /usr/local/lib/python3.6/dist-packages (from spacy>=2.2.2->en_core_web_lg==2.2.5) (1.1.3)\n",
            "Requirement already satisfied: catalogue<1.1.0,>=0.0.7 in /usr/local/lib/python3.6/dist-packages (from spacy>=2.2.2->en_core_web_lg==2.2.5) (1.0.0)\n",
            "Requirement already satisfied: setuptools in /usr/local/lib/python3.6/dist-packages (from spacy>=2.2.2->en_core_web_lg==2.2.5) (51.1.1)\n",
            "Requirement already satisfied: cymem<2.1.0,>=2.0.2 in /usr/local/lib/python3.6/dist-packages (from spacy>=2.2.2->en_core_web_lg==2.2.5) (2.0.5)\n",
            "Requirement already satisfied: srsly<1.1.0,>=1.0.2 in /usr/local/lib/python3.6/dist-packages (from spacy>=2.2.2->en_core_web_lg==2.2.5) (1.0.5)\n",
            "Requirement already satisfied: numpy>=1.15.0 in /usr/local/lib/python3.6/dist-packages (from spacy>=2.2.2->en_core_web_lg==2.2.5) (1.19.5)\n",
            "Requirement already satisfied: murmurhash<1.1.0,>=0.28.0 in /usr/local/lib/python3.6/dist-packages (from spacy>=2.2.2->en_core_web_lg==2.2.5) (1.0.5)\n",
            "Requirement already satisfied: thinc==7.4.0 in /usr/local/lib/python3.6/dist-packages (from spacy>=2.2.2->en_core_web_lg==2.2.5) (7.4.0)\n",
            "Requirement already satisfied: preshed<3.1.0,>=3.0.2 in /usr/local/lib/python3.6/dist-packages (from spacy>=2.2.2->en_core_web_lg==2.2.5) (3.0.5)\n",
            "Requirement already satisfied: wasabi<1.1.0,>=0.4.0 in /usr/local/lib/python3.6/dist-packages (from spacy>=2.2.2->en_core_web_lg==2.2.5) (0.8.0)\n",
            "Requirement already satisfied: urllib3!=1.25.0,!=1.25.1,<1.26,>=1.21.1 in /usr/local/lib/python3.6/dist-packages (from requests<3.0.0,>=2.13.0->spacy>=2.2.2->en_core_web_lg==2.2.5) (1.24.3)\n",
            "Requirement already satisfied: idna<3,>=2.5 in /usr/local/lib/python3.6/dist-packages (from requests<3.0.0,>=2.13.0->spacy>=2.2.2->en_core_web_lg==2.2.5) (2.10)\n",
            "Requirement already satisfied: certifi>=2017.4.17 in /usr/local/lib/python3.6/dist-packages (from requests<3.0.0,>=2.13.0->spacy>=2.2.2->en_core_web_lg==2.2.5) (2020.12.5)\n",
            "Requirement already satisfied: chardet<4,>=3.0.2 in /usr/local/lib/python3.6/dist-packages (from requests<3.0.0,>=2.13.0->spacy>=2.2.2->en_core_web_lg==2.2.5) (3.0.4)\n",
            "Requirement already satisfied: importlib-metadata>=0.20; python_version < \"3.8\" in /usr/local/lib/python3.6/dist-packages (from catalogue<1.1.0,>=0.0.7->spacy>=2.2.2->en_core_web_lg==2.2.5) (3.3.0)\n",
            "Requirement already satisfied: zipp>=0.5 in /usr/local/lib/python3.6/dist-packages (from importlib-metadata>=0.20; python_version < \"3.8\"->catalogue<1.1.0,>=0.0.7->spacy>=2.2.2->en_core_web_lg==2.2.5) (3.4.0)\n",
            "Requirement already satisfied: typing-extensions>=3.6.4; python_version < \"3.8\" in /usr/local/lib/python3.6/dist-packages (from importlib-metadata>=0.20; python_version < \"3.8\"->catalogue<1.1.0,>=0.0.7->spacy>=2.2.2->en_core_web_lg==2.2.5) (3.7.4.3)\n",
            "Building wheels for collected packages: en-core-web-lg\n",
            "  Building wheel for en-core-web-lg (setup.py) ... \u001b[?25l\u001b[?25hdone\n",
            "  Created wheel for en-core-web-lg: filename=en_core_web_lg-2.2.5-cp36-none-any.whl size=829180945 sha256=90972ed414e7d8bbece0fd333e5430d7bcf8482f604546dfdbc22902653afce0\n",
            "  Stored in directory: /tmp/pip-ephem-wheel-cache-os0n1itv/wheels/2a/c1/a6/fc7a877b1efca9bc6a089d6f506f16d3868408f9ff89f8dbfc\n",
            "Successfully built en-core-web-lg\n",
            "Installing collected packages: en-core-web-lg\n",
            "Successfully installed en-core-web-lg-2.2.5\n",
            "\u001b[38;5;2m✔ Download and installation successful\u001b[0m\n",
            "You can now load the model via spacy.load('en_core_web_lg')\n"
          ],
          "name": "stdout"
        }
      ]
    },
    {
      "cell_type": "markdown",
      "metadata": {
        "id": "UwVPBhvtVhGK"
      },
      "source": [
        "# Loading Data "
      ]
    },
    {
      "cell_type": "code",
      "metadata": {
        "id": "OHW02QahmtxC"
      },
      "source": [
        "nlp = spacy.load('en_core_web_lg')"
      ],
      "execution_count": null,
      "outputs": []
    },
    {
      "cell_type": "code",
      "metadata": {
        "id": "z_TdDdygcvBJ"
      },
      "source": [
        "mlb = MultiLabelBinarizer()"
      ],
      "execution_count": null,
      "outputs": []
    },
    {
      "cell_type": "code",
      "metadata": {
        "id": "5Sw1W3xCMM0r"
      },
      "source": [
        "def collection_stats():\n",
        "  documents = reuters.fileids()\n",
        "  print(str(len(documents)) + \" documents\");\n",
        "\n",
        "  train_docs = list(filter(lambda doc: doc.startswith(\"train\"), documents));\n",
        "  print(str(len(train_docs)) + \" total train documents\");\n",
        " \n",
        "  test_docs = list(filter(lambda doc: doc.startswith(\"test\"), documents));\n",
        "  print(str(len(test_docs)) + \" total test documents\")\n",
        "\n",
        "  categories = reuters.categories()\n",
        "\n",
        "  print(str(len(categories)) + \" categories\");"
      ],
      "execution_count": null,
      "outputs": []
    },
    {
      "cell_type": "code",
      "metadata": {
        "colab": {
          "base_uri": "https://localhost:8080/"
        },
        "id": "M2I7cGhTM4ke",
        "outputId": "f203ecfd-fcd4-45e8-a81a-d19db997326f"
      },
      "source": [
        "collection_stats()"
      ],
      "execution_count": null,
      "outputs": [
        {
          "output_type": "stream",
          "text": [
            "10788 documents\n",
            "7769 total train documents\n",
            "3019 total test documents\n",
            "90 categories\n"
          ],
          "name": "stdout"
        }
      ]
    },
    {
      "cell_type": "markdown",
      "metadata": {
        "id": "kOvxseFqVRH8"
      },
      "source": [
        "# Train Test Split of data"
      ]
    },
    {
      "cell_type": "code",
      "metadata": {
        "id": "0kTdFYQLUvRc"
      },
      "source": [
        "def train_test_split():\n",
        "  documents = reuters.fileids()\n",
        "  train_docs = [document for document in documents if document.startswith(\"train\")]\n",
        "  test_docs = [document for document in documents if document.startswith(\"test\")]\n",
        "  x_train = [reuters.raw(doc_id) for doc_id in train_docs]\n",
        "  y_train = [reuters.raw(doc_id) for doc_id in test_docs]\n",
        "  x_test = mlb.fit_transform([reuters.categories(doc_id) for doc_id in train_docs])\n",
        "  y_test = mlb.transform([reuters.categories(doc_id) for doc_id in test_docs])\n",
        "  return x_train, y_train, x_test, y_test"
      ],
      "execution_count": null,
      "outputs": []
    },
    {
      "cell_type": "code",
      "metadata": {
        "id": "Z9z44DdBbB5p"
      },
      "source": [
        "x_train, x_test, y_train, y_test = train_test_split()"
      ],
      "execution_count": null,
      "outputs": []
    },
    {
      "cell_type": "markdown",
      "metadata": {
        "id": "Mjyob_3BVWzY"
      },
      "source": [
        "# Functions for getting entities and word vectors"
      ]
    },
    {
      "cell_type": "code",
      "metadata": {
        "id": "_SisnkwkjrGw"
      },
      "source": [
        "def get_entities(text):\n",
        "  \"\"\" returns the entities of the input text \"\"\"\n",
        "  tokens = nlp(text)\n",
        "  entities = [token.text for token in tokens.ents]\n",
        "  return entities"
      ],
      "execution_count": null,
      "outputs": []
    },
    {
      "cell_type": "code",
      "metadata": {
        "id": "jdV_fk5_iEMH"
      },
      "source": [
        "def get_word_vectors(sentence):\n",
        "  \"\"\" returns the vector representation of the input sentence \"\"\"\n",
        "  tokens = nlp(sentence)\n",
        "  vector = np.sum([token.vector for token in tokens], axis=0)\n",
        "  if vector.shape == ():\n",
        "    vector = np.random.rand(300,)\n",
        "  return vector"
      ],
      "execution_count": null,
      "outputs": []
    },
    {
      "cell_type": "markdown",
      "metadata": {
        "id": "G5ot4yTXTaRZ"
      },
      "source": [
        "## Build vector representations for train data"
      ]
    },
    {
      "cell_type": "code",
      "metadata": {
        "id": "x2rNBMKRgIHw",
        "colab": {
          "base_uri": "https://localhost:8080/"
        },
        "outputId": "d714fd20-0620-4312-f707-02f528c38f05"
      },
      "source": [
        "# Extract entities and build vector representations for train data\n",
        "x_train = [get_word_vectors(' '.join(get_entities(doc))) for doc in x_train]\n",
        "print(np.shape(x_train))"
      ],
      "execution_count": null,
      "outputs": [
        {
          "output_type": "stream",
          "text": [
            "(7769, 300)\n"
          ],
          "name": "stdout"
        }
      ]
    },
    {
      "cell_type": "markdown",
      "metadata": {
        "id": "QC4i786hTmEc"
      },
      "source": [
        "## Build vector representations for test data"
      ]
    },
    {
      "cell_type": "code",
      "metadata": {
        "id": "hX0z7bG5IFN0",
        "colab": {
          "base_uri": "https://localhost:8080/"
        },
        "outputId": "9d973e1b-ee6c-4eef-d9d7-a6d488988f39"
      },
      "source": [
        "# Extract entities and build vector representations for test data\n",
        "x_test = [get_word_vectors(' '.join(get_entities(doc))) for doc in x_test]\n",
        "print(np.shape(x_test))"
      ],
      "execution_count": null,
      "outputs": [
        {
          "output_type": "stream",
          "text": [
            "(3019, 300)\n"
          ],
          "name": "stdout"
        }
      ]
    },
    {
      "cell_type": "markdown",
      "metadata": {
        "id": "pt7UfMr1UcP6"
      },
      "source": [
        "# Naive bayes classifier"
      ]
    },
    {
      "cell_type": "code",
      "metadata": {
        "id": "5g5Lh-5-KSHN"
      },
      "source": [
        "from sklearn.naive_bayes import GaussianNB\n",
        "from sklearn.metrics import classification_report\n",
        "from sklearn.multiclass import OneVsRestClassifier"
      ],
      "execution_count": null,
      "outputs": []
    },
    {
      "cell_type": "markdown",
      "metadata": {
        "id": "OjdIcXXQTYWn"
      },
      "source": [
        "## Fit and predict using Naive bayes classifier"
      ]
    },
    {
      "cell_type": "code",
      "metadata": {
        "id": "94IteZfyLOR7",
        "colab": {
          "base_uri": "https://localhost:8080/"
        },
        "outputId": "12c5c632-6782-4a0b-fac8-26bd7aaa95ff"
      },
      "source": [
        "gnb = OneVsRestClassifier(GaussianNB())\n",
        "gnb.fit(x_train, y_train)"
      ],
      "execution_count": null,
      "outputs": [
        {
          "output_type": "execute_result",
          "data": {
            "text/plain": [
              "OneVsRestClassifier(estimator=GaussianNB(priors=None, var_smoothing=1e-09),\n",
              "                    n_jobs=None)"
            ]
          },
          "metadata": {
            "tags": []
          },
          "execution_count": 29
        }
      ]
    },
    {
      "cell_type": "code",
      "metadata": {
        "id": "yFNuMbslaVCG"
      },
      "source": [
        "y_pred_nb = gnb.predict(x_test)"
      ],
      "execution_count": null,
      "outputs": []
    },
    {
      "cell_type": "markdown",
      "metadata": {
        "id": "VvyhJe8zURAm"
      },
      "source": [
        "## Print classification report"
      ]
    },
    {
      "cell_type": "code",
      "metadata": {
        "id": "1y9dFmh3adRs",
        "colab": {
          "base_uri": "https://localhost:8080/"
        },
        "outputId": "4069239e-8029-483e-d583-a4db4abda4cc"
      },
      "source": [
        "print(\"Naive Bayes Classifier Result\")\n",
        "print(classification_report(y_true=y_test, y_pred=y_pred_nb))"
      ],
      "execution_count": null,
      "outputs": [
        {
          "output_type": "stream",
          "text": [
            "Naive Bayes Classifier Result\n",
            "              precision    recall  f1-score   support\n",
            "\n",
            "           0       0.34      0.89      0.49       719\n",
            "           1       0.01      0.65      0.02        23\n",
            "           2       0.05      0.36      0.09        14\n",
            "           3       0.04      0.43      0.08        30\n",
            "           4       0.04      0.83      0.08        18\n",
            "           5       0.00      0.00      0.00         1\n",
            "           6       0.05      0.78      0.10        18\n",
            "           7       0.00      0.00      0.00         2\n",
            "           8       0.00      0.00      0.00         3\n",
            "           9       0.05      0.50      0.09        28\n",
            "          10       0.02      0.61      0.04        18\n",
            "          11       0.00      0.00      0.00         1\n",
            "          12       0.05      0.34      0.08        56\n",
            "          13       0.04      0.35      0.07        20\n",
            "          14       0.00      0.00      0.00         2\n",
            "          15       0.19      0.64      0.29        28\n",
            "          16       0.00      0.00      0.00         1\n",
            "          17       0.15      0.35      0.21       189\n",
            "          18       0.00      0.00      0.00         1\n",
            "          19       0.04      0.89      0.08        44\n",
            "          20       0.00      0.25      0.00         4\n",
            "          21       0.48      0.93      0.63      1087\n",
            "          22       0.01      0.30      0.02        10\n",
            "          23       0.01      0.24      0.02        17\n",
            "          24       0.07      0.66      0.12        35\n",
            "          25       0.02      0.73      0.03        30\n",
            "          26       0.11      0.36      0.17       149\n",
            "          27       0.00      0.00      0.00         4\n",
            "          28       0.00      0.00      0.00         1\n",
            "          29       0.00      0.00      0.00         5\n",
            "          30       0.00      0.50      0.00         6\n",
            "          31       0.00      0.25      0.01         4\n",
            "          32       0.03      0.57      0.05         7\n",
            "          33       0.00      0.00      0.00         1\n",
            "          34       0.07      0.75      0.13       131\n",
            "          35       0.01      0.25      0.03        12\n",
            "          36       0.00      0.07      0.01        14\n",
            "          37       0.00      0.00      0.00         1\n",
            "          38       0.11      0.48      0.17        21\n",
            "          39       0.00      0.00      0.00         2\n",
            "          40       0.01      0.43      0.01        14\n",
            "          41       0.00      1.00      0.01         3\n",
            "          42       0.00      0.00      0.00         1\n",
            "          43       0.04      0.71      0.07        24\n",
            "          44       0.06      0.50      0.11         6\n",
            "          45       0.03      0.58      0.06        19\n",
            "          46       0.24      0.87      0.37       179\n",
            "          47       0.04      0.35      0.07        34\n",
            "          48       0.00      0.00      0.00         4\n",
            "          49       0.02      0.20      0.03        30\n",
            "          50       0.00      0.00      0.00         1\n",
            "          51       0.00      0.00      0.00         2\n",
            "          52       0.00      0.00      0.00         2\n",
            "          53       0.16      0.50      0.24         6\n",
            "          54       0.04      0.36      0.08        47\n",
            "          55       0.01      0.64      0.01        11\n",
            "          56       0.00      0.00      0.00         1\n",
            "          57       0.04      0.60      0.07        10\n",
            "          58       0.00      0.00      0.00         1\n",
            "          59       0.04      0.50      0.07        12\n",
            "          60       0.00      0.00      0.00         7\n",
            "          61       1.00      0.33      0.50         3\n",
            "          62       0.00      0.00      0.00         3\n",
            "          63       0.00      0.00      0.00         1\n",
            "          64       0.00      0.00      0.00         3\n",
            "          65       0.02      0.22      0.03         9\n",
            "          66       0.03      0.61      0.06        18\n",
            "          67       0.01      1.00      0.02         2\n",
            "          68       0.03      0.46      0.06        24\n",
            "          69       0.03      0.92      0.06        12\n",
            "          70       0.00      0.00      0.00         1\n",
            "          71       0.15      0.73      0.25        89\n",
            "          72       0.00      0.38      0.00         8\n",
            "          73       0.02      0.60      0.04        10\n",
            "          74       0.03      0.69      0.06        13\n",
            "          75       0.03      0.73      0.06        11\n",
            "          76       0.04      0.45      0.08        33\n",
            "          77       0.00      0.36      0.01        11\n",
            "          78       0.02      0.22      0.04        36\n",
            "          79       0.00      0.00      0.00         1\n",
            "          80       0.00      0.00      0.00         2\n",
            "          81       0.01      0.40      0.02         5\n",
            "          82       0.00      0.00      0.00         4\n",
            "          83       0.02      0.33      0.04        12\n",
            "          84       0.13      0.49      0.20       117\n",
            "          85       0.08      0.62      0.14        37\n",
            "          86       0.06      0.38      0.11        71\n",
            "          87       0.24      0.40      0.30        10\n",
            "          88       0.08      0.86      0.14        14\n",
            "          89       0.01      0.69      0.02        13\n",
            "\n",
            "   micro avg       0.08      0.71      0.14      3744\n",
            "   macro avg       0.05      0.37      0.07      3744\n",
            "weighted avg       0.25      0.71      0.35      3744\n",
            " samples avg       0.19      0.76      0.26      3744\n",
            "\n"
          ],
          "name": "stdout"
        },
        {
          "output_type": "stream",
          "text": [
            "/usr/local/lib/python3.6/dist-packages/sklearn/metrics/_classification.py:1272: UndefinedMetricWarning: Precision and F-score are ill-defined and being set to 0.0 in labels with no predicted samples. Use `zero_division` parameter to control this behavior.\n",
            "  _warn_prf(average, modifier, msg_start, len(result))\n",
            "/usr/local/lib/python3.6/dist-packages/sklearn/metrics/_classification.py:1272: UndefinedMetricWarning: Precision and F-score are ill-defined and being set to 0.0 in samples with no predicted labels. Use `zero_division` parameter to control this behavior.\n",
            "  _warn_prf(average, modifier, msg_start, len(result))\n"
          ],
          "name": "stderr"
        }
      ]
    },
    {
      "cell_type": "markdown",
      "metadata": {
        "id": "HID2Z2urUjww"
      },
      "source": [
        "# Logistic regression"
      ]
    },
    {
      "cell_type": "code",
      "metadata": {
        "id": "hUx6ebeLavAl"
      },
      "source": [
        "from sklearn.linear_model import LogisticRegression"
      ],
      "execution_count": null,
      "outputs": []
    },
    {
      "cell_type": "markdown",
      "metadata": {
        "id": "MztLv3NtUr21"
      },
      "source": [
        "## Fit and predict using Logistic Regression Classifier "
      ]
    },
    {
      "cell_type": "code",
      "metadata": {
        "id": "jqsinTqcbmWr",
        "colab": {
          "base_uri": "https://localhost:8080/"
        },
        "outputId": "f4d3bf13-42b6-4525-808d-16e83417f979"
      },
      "source": [
        "lr = OneVsRestClassifier(LogisticRegression(solver='newton-cg', n_jobs=4))\n",
        "lr.fit(x_train, y_train)"
      ],
      "execution_count": null,
      "outputs": [
        {
          "output_type": "execute_result",
          "data": {
            "text/plain": [
              "OneVsRestClassifier(estimator=LogisticRegression(C=1.0, class_weight=None,\n",
              "                                                 dual=False, fit_intercept=True,\n",
              "                                                 intercept_scaling=1,\n",
              "                                                 l1_ratio=None, max_iter=100,\n",
              "                                                 multi_class='auto', n_jobs=4,\n",
              "                                                 penalty='l2',\n",
              "                                                 random_state=None,\n",
              "                                                 solver='newton-cg', tol=0.0001,\n",
              "                                                 verbose=0, warm_start=False),\n",
              "                    n_jobs=None)"
            ]
          },
          "metadata": {
            "tags": []
          },
          "execution_count": 34
        }
      ]
    },
    {
      "cell_type": "code",
      "metadata": {
        "id": "CYaig82OeB7D"
      },
      "source": [
        "y_pred = lr.predict(x_test)"
      ],
      "execution_count": null,
      "outputs": []
    },
    {
      "cell_type": "markdown",
      "metadata": {
        "id": "jBIa1MnsUwo4"
      },
      "source": [
        "## Print classification report"
      ]
    },
    {
      "cell_type": "code",
      "metadata": {
        "id": "MDfdy4H9cKE_",
        "colab": {
          "base_uri": "https://localhost:8080/"
        },
        "outputId": "d02dff0b-1df3-4e37-8dc4-9fb5ca928302"
      },
      "source": [
        "print(\"Logistic Regression result\")\n",
        "print(classification_report(y_true=y_test, y_pred=y_pred))"
      ],
      "execution_count": null,
      "outputs": [
        {
          "output_type": "stream",
          "text": [
            "Logistic Regression result\n",
            "              precision    recall  f1-score   support\n",
            "\n",
            "           0       0.87      0.79      0.83       719\n",
            "           1       0.27      0.13      0.18        23\n",
            "           2       0.35      0.43      0.39        14\n",
            "           3       0.16      0.20      0.18        30\n",
            "           4       0.18      0.28      0.22        18\n",
            "           5       0.00      0.00      0.00         1\n",
            "           6       0.40      0.44      0.42        18\n",
            "           7       0.00      0.00      0.00         2\n",
            "           8       0.00      0.00      0.00         3\n",
            "           9       0.47      0.57      0.52        28\n",
            "          10       0.26      0.33      0.29        18\n",
            "          11       0.00      0.00      0.00         1\n",
            "          12       0.36      0.52      0.43        56\n",
            "          13       0.35      0.30      0.32        20\n",
            "          14       0.00      0.00      0.00         2\n",
            "          15       0.28      0.25      0.26        28\n",
            "          16       0.00      0.00      0.00         1\n",
            "          17       0.68      0.63      0.66       189\n",
            "          18       0.00      0.00      0.00         1\n",
            "          19       0.38      0.48      0.42        44\n",
            "          20       0.50      0.25      0.33         4\n",
            "          21       0.88      0.94      0.91      1087\n",
            "          22       0.18      0.20      0.19        10\n",
            "          23       0.05      0.06      0.06        17\n",
            "          24       0.41      0.60      0.49        35\n",
            "          25       0.30      0.30      0.30        30\n",
            "          26       0.62      0.60      0.61       149\n",
            "          27       0.00      0.00      0.00         4\n",
            "          28       0.00      0.00      0.00         1\n",
            "          29       0.13      0.40      0.20         5\n",
            "          30       1.00      0.50      0.67         6\n",
            "          31       0.25      0.50      0.33         4\n",
            "          32       0.25      0.14      0.18         7\n",
            "          33       0.00      0.00      0.00         1\n",
            "          34       0.53      0.54      0.54       131\n",
            "          35       0.22      0.42      0.29        12\n",
            "          36       0.21      0.36      0.26        14\n",
            "          37       0.00      0.00      0.00         1\n",
            "          38       0.25      0.19      0.22        21\n",
            "          39       0.00      0.00      0.00         2\n",
            "          40       0.17      0.07      0.10        14\n",
            "          41       0.00      0.00      0.00         3\n",
            "          42       0.00      0.00      0.00         1\n",
            "          43       0.20      0.29      0.24        24\n",
            "          44       1.00      0.17      0.29         6\n",
            "          45       0.05      0.05      0.05        19\n",
            "          46       0.56      0.47      0.51       179\n",
            "          47       0.42      0.50      0.46        34\n",
            "          48       0.00      0.00      0.00         4\n",
            "          49       0.37      0.37      0.37        30\n",
            "          50       0.00      0.00      0.00         1\n",
            "          51       0.00      0.00      0.00         2\n",
            "          52       0.00      0.00      0.00         2\n",
            "          53       0.20      0.17      0.18         6\n",
            "          54       0.22      0.32      0.26        47\n",
            "          55       0.40      0.36      0.38        11\n",
            "          56       0.00      0.00      0.00         1\n",
            "          57       0.33      0.50      0.40        10\n",
            "          58       0.00      0.00      0.00         1\n",
            "          59       0.21      0.25      0.23        12\n",
            "          60       1.00      0.14      0.25         7\n",
            "          61       0.00      0.00      0.00         3\n",
            "          62       0.00      0.00      0.00         3\n",
            "          63       0.00      0.00      0.00         1\n",
            "          64       0.00      0.00      0.00         3\n",
            "          65       0.50      0.44      0.47         9\n",
            "          66       0.41      0.50      0.45        18\n",
            "          67       0.00      0.00      0.00         2\n",
            "          68       0.22      0.21      0.21        24\n",
            "          69       0.21      0.25      0.23        12\n",
            "          70       0.00      0.00      0.00         1\n",
            "          71       0.48      0.46      0.47        89\n",
            "          72       0.00      0.00      0.00         8\n",
            "          73       0.25      0.40      0.31        10\n",
            "          74       0.00      0.00      0.00        13\n",
            "          75       0.32      0.55      0.40        11\n",
            "          76       0.36      0.48      0.41        33\n",
            "          77       0.00      0.00      0.00        11\n",
            "          78       0.28      0.53      0.37        36\n",
            "          79       0.00      0.00      0.00         1\n",
            "          80       0.00      0.00      0.00         2\n",
            "          81       0.00      0.00      0.00         5\n",
            "          82       0.00      0.00      0.00         4\n",
            "          83       0.80      0.33      0.47        12\n",
            "          84       0.47      0.41      0.44       117\n",
            "          85       0.31      0.41      0.35        37\n",
            "          86       0.40      0.45      0.42        71\n",
            "          87       0.18      0.20      0.19        10\n",
            "          88       0.06      0.07      0.06        14\n",
            "          89       0.12      0.08      0.10        13\n",
            "\n",
            "   micro avg       0.62      0.64      0.63      3744\n",
            "   macro avg       0.24      0.23      0.22      3744\n",
            "weighted avg       0.64      0.64      0.63      3744\n",
            " samples avg       0.65      0.70      0.66      3744\n",
            "\n"
          ],
          "name": "stdout"
        },
        {
          "output_type": "stream",
          "text": [
            "/usr/local/lib/python3.6/dist-packages/sklearn/metrics/_classification.py:1272: UndefinedMetricWarning: Precision and F-score are ill-defined and being set to 0.0 in labels with no predicted samples. Use `zero_division` parameter to control this behavior.\n",
            "  _warn_prf(average, modifier, msg_start, len(result))\n",
            "/usr/local/lib/python3.6/dist-packages/sklearn/metrics/_classification.py:1272: UndefinedMetricWarning: Precision and F-score are ill-defined and being set to 0.0 in samples with no predicted labels. Use `zero_division` parameter to control this behavior.\n",
            "  _warn_prf(average, modifier, msg_start, len(result))\n"
          ],
          "name": "stderr"
        }
      ]
    },
    {
      "cell_type": "code",
      "metadata": {
        "id": "5LhMaJq4U9Dd"
      },
      "source": [
        ""
      ],
      "execution_count": null,
      "outputs": []
    }
  ]
}